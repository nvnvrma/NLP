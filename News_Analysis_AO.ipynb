{
  "nbformat": 4,
  "nbformat_minor": 0,
  "metadata": {
    "colab": {
      "name": "News_Analysis_AO.ipynb",
      "version": "0.3.2",
      "provenance": [],
      "collapsed_sections": [],
      "toc_visible": true,
      "include_colab_link": true
    },
    "kernelspec": {
      "name": "python3",
      "display_name": "Python 3"
    },
    "accelerator": "GPU"
  },
  "cells": [
    {
      "cell_type": "markdown",
      "metadata": {
        "id": "view-in-github",
        "colab_type": "text"
      },
      "source": [
        "<a href=\"https://colab.research.google.com/github/varma1/NLP/blob/master/News_Analysis_AO.ipynb\" target=\"_parent\"><img src=\"https://colab.research.google.com/assets/colab-badge.svg\" alt=\"Open In Colab\"/></a>"
      ]
    },
    {
      "cell_type": "markdown",
      "metadata": {
        "id": "vo10O6Lh8KdL",
        "colab_type": "text"
      },
      "source": [
        "## Load the Data "
      ]
    },
    {
      "cell_type": "code",
      "metadata": {
        "id": "HNYZ0h2amqsK",
        "colab_type": "code",
        "outputId": "9e833e83-d16e-40f2-e853-2cb1ae1883f5",
        "colab": {
          "base_uri": "https://localhost:8080/",
          "height": 125
        }
      },
      "source": [
        "from google.colab import drive\n",
        "drive.mount('/content/gdrive')\n"
      ],
      "execution_count": 11,
      "outputs": [
        {
          "output_type": "stream",
          "text": [
            "Go to this URL in a browser: https://accounts.google.com/o/oauth2/auth?client_id=947318989803-6bn6qk8qdgf4n4g3pfee6491hc0brc4i.apps.googleusercontent.com&redirect_uri=urn%3Aietf%3Awg%3Aoauth%3A2.0%3Aoob&scope=email%20https%3A%2F%2Fwww.googleapis.com%2Fauth%2Fdocs.test%20https%3A%2F%2Fwww.googleapis.com%2Fauth%2Fdrive%20https%3A%2F%2Fwww.googleapis.com%2Fauth%2Fdrive.photos.readonly%20https%3A%2F%2Fwww.googleapis.com%2Fauth%2Fpeopleapi.readonly&response_type=code\n",
            "\n",
            "Enter your authorization code:\n",
            "··········\n",
            "Mounted at /content/gdrive\n"
          ],
          "name": "stdout"
        }
      ]
    },
    {
      "cell_type": "code",
      "metadata": {
        "id": "-XrMMPPc8RwU",
        "colab_type": "code",
        "outputId": "5baa4e5b-40ea-4be7-8a5c-827db9da03cf",
        "colab": {
          "base_uri": "https://localhost:8080/",
          "height": 34
        }
      },
      "source": [
        "!ls -ls /content/gdrive/'My Drive'/'Colab Notebooks'"
      ],
      "execution_count": 10,
      "outputs": [
        {
          "output_type": "stream",
          "text": [
            "ls: cannot access '/content/gdrive/My Drive/Colab Notebooks': No such file or directory\n"
          ],
          "name": "stdout"
        }
      ]
    },
    {
      "cell_type": "code",
      "metadata": {
        "id": "wpJDw0oYPAqX",
        "colab_type": "code",
        "colab": {
          "base_uri": "https://localhost:8080/",
          "height": 34
        },
        "outputId": "395335b8-eaa9-415b-cab3-e55ec13d87d9"
      },
      "source": [
        "!cp \"/content/gdrive/My Drive/Colab Notebooks/News_Category_Dataset_v2.json\" \"News_Category_Dataset_v2.json\""
      ],
      "execution_count": 9,
      "outputs": [
        {
          "output_type": "stream",
          "text": [
            "cp: cannot stat '/content/gdrive/My Drive/Colab Notebooks/News_Category_Dataset_v2.json': No such file or directory\n"
          ],
          "name": "stdout"
        }
      ]
    },
    {
      "cell_type": "markdown",
      "metadata": {
        "id": "bux4gFTj9fYC",
        "colab_type": "text"
      },
      "source": [
        "#### Load libraries we will need "
      ]
    },
    {
      "cell_type": "code",
      "metadata": {
        "id": "tb81Zjbj_l4o",
        "colab_type": "code",
        "colab": {}
      },
      "source": [
        "import pandas as pd\n",
        "import numpy as np\n",
        "from zipfile import ZipFile\n",
        "import re\n",
        "from nltk.stem.snowball import SnowballStemmer\n",
        "from sklearn.pipeline import Pipeline\n",
        "from sklearn.linear_model import LogisticRegression\n",
        "from sklearn.svm import LinearSVC\n",
        "from sklearn.linear_model import PassiveAggressiveClassifier\n",
        "from sklearn.naive_bayes import MultinomialNB\n",
        "from sklearn.feature_extraction.text import TfidfVectorizer, CountVectorizer, TfidfTransformer\n",
        "from sklearn.neighbors import KNeighborsClassifier\n",
        "from sklearn.model_selection import GridSearchCV\n",
        "from sklearn.metrics import accuracy_score, confusion_matrix, roc_auc_score\n",
        "import nltk\n",
        "from nltk.stem import WordNetLemmatizer\n",
        "from nltk import word_tokenize\n",
        "from nltk.corpus import stopwords\n",
        "import string\n",
        "from sklearn.linear_model import SGDClassifier\n",
        "import logging\n",
        "from textblob import TextBlob\n",
        "from sklearn.preprocessing import LabelEncoder\n",
        "from sklearn.model_selection import train_test_split"
      ],
      "execution_count": 0,
      "outputs": []
    },
    {
      "cell_type": "code",
      "metadata": {
        "id": "2qppuBfdCkSI",
        "colab_type": "code",
        "outputId": "95b7f1cb-8c12-4cad-fad6-b8c68909ac2c",
        "colab": {
          "base_uri": "https://localhost:8080/",
          "height": 34
        }
      },
      "source": [
        "df_news = pd.read_json(\"/content/gdrive/My Drive/Colab Notebooks/News_Category_Dataset_v2.json\", lines = True)\n",
        "df_news.columns"
      ],
      "execution_count": 12,
      "outputs": [
        {
          "output_type": "execute_result",
          "data": {
            "text/plain": [
              "Index(['authors', 'category', 'date', 'headline', 'link', 'short_description'], dtype='object')"
            ]
          },
          "metadata": {
            "tags": []
          },
          "execution_count": 12
        }
      ]
    },
    {
      "cell_type": "code",
      "metadata": {
        "id": "CzciHNksGbni",
        "colab_type": "code",
        "outputId": "70b84f1c-ebaa-49ec-eb61-0be378b79ebe",
        "colab": {
          "base_uri": "https://localhost:8080/",
          "height": 210
        }
      },
      "source": [
        "df_news.info()"
      ],
      "execution_count": 13,
      "outputs": [
        {
          "output_type": "stream",
          "text": [
            "<class 'pandas.core.frame.DataFrame'>\n",
            "RangeIndex: 200853 entries, 0 to 200852\n",
            "Data columns (total 6 columns):\n",
            "authors              200853 non-null object\n",
            "category             200853 non-null object\n",
            "date                 200853 non-null datetime64[ns]\n",
            "headline             200853 non-null object\n",
            "link                 200853 non-null object\n",
            "short_description    200853 non-null object\n",
            "dtypes: datetime64[ns](1), object(5)\n",
            "memory usage: 9.2+ MB\n"
          ],
          "name": "stdout"
        }
      ]
    },
    {
      "cell_type": "code",
      "metadata": {
        "id": "tl5GHlm_CwKP",
        "colab_type": "code",
        "outputId": "2c2b4f13-92a2-49ba-ec69-90c38641b58b",
        "colab": {
          "base_uri": "https://localhost:8080/",
          "height": 296
        }
      },
      "source": [
        "df_news.head()"
      ],
      "execution_count": 14,
      "outputs": [
        {
          "output_type": "execute_result",
          "data": {
            "text/html": [
              "<div>\n",
              "<style scoped>\n",
              "    .dataframe tbody tr th:only-of-type {\n",
              "        vertical-align: middle;\n",
              "    }\n",
              "\n",
              "    .dataframe tbody tr th {\n",
              "        vertical-align: top;\n",
              "    }\n",
              "\n",
              "    .dataframe thead th {\n",
              "        text-align: right;\n",
              "    }\n",
              "</style>\n",
              "<table border=\"1\" class=\"dataframe\">\n",
              "  <thead>\n",
              "    <tr style=\"text-align: right;\">\n",
              "      <th></th>\n",
              "      <th>authors</th>\n",
              "      <th>category</th>\n",
              "      <th>date</th>\n",
              "      <th>headline</th>\n",
              "      <th>link</th>\n",
              "      <th>short_description</th>\n",
              "    </tr>\n",
              "  </thead>\n",
              "  <tbody>\n",
              "    <tr>\n",
              "      <th>0</th>\n",
              "      <td>Melissa Jeltsen</td>\n",
              "      <td>CRIME</td>\n",
              "      <td>2018-05-26</td>\n",
              "      <td>There Were 2 Mass Shootings In Texas Last Week...</td>\n",
              "      <td>https://www.huffingtonpost.com/entry/texas-ama...</td>\n",
              "      <td>She left her husband. He killed their children...</td>\n",
              "    </tr>\n",
              "    <tr>\n",
              "      <th>1</th>\n",
              "      <td>Andy McDonald</td>\n",
              "      <td>ENTERTAINMENT</td>\n",
              "      <td>2018-05-26</td>\n",
              "      <td>Will Smith Joins Diplo And Nicky Jam For The 2...</td>\n",
              "      <td>https://www.huffingtonpost.com/entry/will-smit...</td>\n",
              "      <td>Of course it has a song.</td>\n",
              "    </tr>\n",
              "    <tr>\n",
              "      <th>2</th>\n",
              "      <td>Ron Dicker</td>\n",
              "      <td>ENTERTAINMENT</td>\n",
              "      <td>2018-05-26</td>\n",
              "      <td>Hugh Grant Marries For The First Time At Age 57</td>\n",
              "      <td>https://www.huffingtonpost.com/entry/hugh-gran...</td>\n",
              "      <td>The actor and his longtime girlfriend Anna Ebe...</td>\n",
              "    </tr>\n",
              "    <tr>\n",
              "      <th>3</th>\n",
              "      <td>Ron Dicker</td>\n",
              "      <td>ENTERTAINMENT</td>\n",
              "      <td>2018-05-26</td>\n",
              "      <td>Jim Carrey Blasts 'Castrato' Adam Schiff And D...</td>\n",
              "      <td>https://www.huffingtonpost.com/entry/jim-carre...</td>\n",
              "      <td>The actor gives Dems an ass-kicking for not fi...</td>\n",
              "    </tr>\n",
              "    <tr>\n",
              "      <th>4</th>\n",
              "      <td>Ron Dicker</td>\n",
              "      <td>ENTERTAINMENT</td>\n",
              "      <td>2018-05-26</td>\n",
              "      <td>Julianna Margulies Uses Donald Trump Poop Bags...</td>\n",
              "      <td>https://www.huffingtonpost.com/entry/julianna-...</td>\n",
              "      <td>The \"Dietland\" actress said using the bags is ...</td>\n",
              "    </tr>\n",
              "  </tbody>\n",
              "</table>\n",
              "</div>"
            ],
            "text/plain": [
              "           authors  ...                                  short_description\n",
              "0  Melissa Jeltsen  ...  She left her husband. He killed their children...\n",
              "1    Andy McDonald  ...                           Of course it has a song.\n",
              "2       Ron Dicker  ...  The actor and his longtime girlfriend Anna Ebe...\n",
              "3       Ron Dicker  ...  The actor gives Dems an ass-kicking for not fi...\n",
              "4       Ron Dicker  ...  The \"Dietland\" actress said using the bags is ...\n",
              "\n",
              "[5 rows x 6 columns]"
            ]
          },
          "metadata": {
            "tags": []
          },
          "execution_count": 14
        }
      ]
    },
    {
      "cell_type": "markdown",
      "metadata": {
        "id": "VTD8OxQbETFQ",
        "colab_type": "text"
      },
      "source": [
        "Category Distribution"
      ]
    },
    {
      "cell_type": "code",
      "metadata": {
        "id": "IIfIYr1MElyq",
        "colab_type": "code",
        "outputId": "4a9f40fe-7f33-4930-b8e8-665169ea0f54",
        "colab": {
          "base_uri": "https://localhost:8080/",
          "height": 34
        }
      },
      "source": [
        "len(df_news['category'].unique())"
      ],
      "execution_count": 15,
      "outputs": [
        {
          "output_type": "execute_result",
          "data": {
            "text/plain": [
              "41"
            ]
          },
          "metadata": {
            "tags": []
          },
          "execution_count": 15
        }
      ]
    },
    {
      "cell_type": "code",
      "metadata": {
        "id": "hJMsqkXdCfvb",
        "colab_type": "code",
        "outputId": "6edac1e2-1f03-4568-b7b4-c997ea1dacee",
        "colab": {
          "base_uri": "https://localhost:8080/",
          "height": 140
        }
      },
      "source": [
        "print(df_news['category'].unique())"
      ],
      "execution_count": 16,
      "outputs": [
        {
          "output_type": "stream",
          "text": [
            "['CRIME' 'ENTERTAINMENT' 'WORLD NEWS' 'IMPACT' 'POLITICS' 'WEIRD NEWS'\n",
            " 'BLACK VOICES' 'WOMEN' 'COMEDY' 'QUEER VOICES' 'SPORTS' 'BUSINESS'\n",
            " 'TRAVEL' 'MEDIA' 'TECH' 'RELIGION' 'SCIENCE' 'LATINO VOICES' 'EDUCATION'\n",
            " 'COLLEGE' 'PARENTS' 'ARTS & CULTURE' 'STYLE' 'GREEN' 'TASTE'\n",
            " 'HEALTHY LIVING' 'THE WORLDPOST' 'GOOD NEWS' 'WORLDPOST' 'FIFTY' 'ARTS'\n",
            " 'WELLNESS' 'PARENTING' 'HOME & LIVING' 'STYLE & BEAUTY' 'DIVORCE'\n",
            " 'WEDDINGS' 'FOOD & DRINK' 'MONEY' 'ENVIRONMENT' 'CULTURE & ARTS']\n"
          ],
          "name": "stdout"
        }
      ]
    },
    {
      "cell_type": "markdown",
      "metadata": {
        "id": "7ZV-k5hUEszj",
        "colab_type": "text"
      },
      "source": [
        "There are 41 categories in the dataset"
      ]
    },
    {
      "cell_type": "code",
      "metadata": {
        "id": "Xhs8Ip2zC6Kh",
        "colab_type": "code",
        "outputId": "649baa47-5885-4cf6-cf04-756631cde03e",
        "colab": {
          "base_uri": "https://localhost:8080/",
          "height": 690
        }
      },
      "source": [
        "df_news['category'].value_counts().plot( kind='bar', figsize=(15,10))"
      ],
      "execution_count": 17,
      "outputs": [
        {
          "output_type": "execute_result",
          "data": {
            "text/plain": [
              "<matplotlib.axes._subplots.AxesSubplot at 0x7f2e1da81358>"
            ]
          },
          "metadata": {
            "tags": []
          },
          "execution_count": 17
        },
        {
          "output_type": "display_data",
          "data": {
            "image/png": "[encoded data removed]",
            "text/plain": [
              "<Figure size 1080x720 with 1 Axes>"
            ]
          },
          "metadata": {
            "tags": []
          }
        }
      ]
    },
    {
      "cell_type": "markdown",
      "metadata": {
        "id": "wF7A9s4AKcpk",
        "colab_type": "text"
      },
      "source": [
        "#### Data pre-processing"
      ]
    },
    {
      "cell_type": "markdown",
      "metadata": {
        "id": "1rPGHAy9-bIX",
        "colab_type": "text"
      },
      "source": [
        "load the nltk utilities"
      ]
    },
    {
      "cell_type": "code",
      "metadata": {
        "id": "ucHFsNxpMf3c",
        "colab_type": "code",
        "outputId": "6849d4cd-444d-488d-fc25-273631d836de",
        "colab": {
          "base_uri": "https://localhost:8080/",
          "height": 193
        }
      },
      "source": [
        "import nltk\n",
        "nltk.download('punkt')\n",
        "nltk.download('stopwords')\n",
        "nltk.download('wordnet')\n",
        "nltk.download('averaged_perceptron_tagger')"
      ],
      "execution_count": 18,
      "outputs": [
        {
          "output_type": "stream",
          "text": [
            "[nltk_data] Downloading package punkt to /root/nltk_data...\n",
            "[nltk_data]   Unzipping tokenizers/punkt.zip.\n",
            "[nltk_data] Downloading package stopwords to /root/nltk_data...\n",
            "[nltk_data]   Unzipping corpora/stopwords.zip.\n",
            "[nltk_data] Downloading package wordnet to /root/nltk_data...\n",
            "[nltk_data]   Unzipping corpora/wordnet.zip.\n",
            "[nltk_data] Downloading package averaged_perceptron_tagger to\n",
            "[nltk_data]     /root/nltk_data...\n",
            "[nltk_data]   Unzipping taggers/averaged_perceptron_tagger.zip.\n"
          ],
          "name": "stdout"
        },
        {
          "output_type": "execute_result",
          "data": {
            "text/plain": [
              "True"
            ]
          },
          "metadata": {
            "tags": []
          },
          "execution_count": 18
        }
      ]
    },
    {
      "cell_type": "markdown",
      "metadata": {
        "id": "5YEzU1Ju-jwP",
        "colab_type": "text"
      },
      "source": [
        "#### Function to clean, tokenize, remove stop word, and not alphanumeric from data"
      ]
    },
    {
      "cell_type": "code",
      "metadata": {
        "id": "PhsZm0H4EN-Q",
        "colab_type": "code",
        "colab": {}
      },
      "source": [
        "stop_words_ = set(stopwords.words('english'))\n",
        "lemmatizer = WordNetLemmatizer()\n",
        "\n",
        "custom_stop_words_ = ['make', 'amp',  'news','new' ,'time', 'u','s', 'photos',  'get', 'say']\n",
        "def black_txt(token):\n",
        "    return  token not in stop_words_ and token not in list(string.punctuation)  and len(token)>2 and token not in custom_stop_words_\n",
        "  \n",
        "  \n",
        "def clean_txt(text):\n",
        "  clean_text = []\n",
        "  clean_text2 = []\n",
        "  text = re.sub(\"'\", \"\",text)\n",
        "  text=re.sub(\"(\\\\d|\\\\W)+\",\" \",text)    \n",
        "  clean_text = [ lemmatizer.lemmatize(word, pos=\"v\") for word in word_tokenize(text.lower()) if black_txt(word)]\n",
        "  #print(clean_text)\n",
        "  clean_text2 = [word for word in clean_text if black_txt(word)]\n",
        "  #print(clean_text2)\n",
        "  return \" \".join(clean_text2)"
      ],
      "execution_count": 0,
      "outputs": []
    },
    {
      "cell_type": "code",
      "metadata": {
        "id": "-T249LMOPD1s",
        "colab_type": "code",
        "outputId": "cddff348-17ef-4d0c-8bb1-b20206535c62",
        "colab": {
          "base_uri": "https://localhost:8080/",
          "height": 34
        }
      },
      "source": [
        "df_news.short_description[2]"
      ],
      "execution_count": 20,
      "outputs": [
        {
          "output_type": "execute_result",
          "data": {
            "text/plain": [
              "'The actor and his longtime girlfriend Anna Eberstein tied the knot in a civil ceremony.'"
            ]
          },
          "metadata": {
            "tags": []
          },
          "execution_count": 20
        }
      ]
    },
    {
      "cell_type": "markdown",
      "metadata": {
        "id": "20vWuwgtnkE2",
        "colab_type": "text"
      },
      "source": [
        "#### Processing the Data and TF-IDF"
      ]
    },
    {
      "cell_type": "markdown",
      "metadata": {
        "id": "CxhFnyyjnxoG",
        "colab_type": "text"
      },
      "source": [
        "We need to merge the categories _WORDLPOST_ with _THE WORDPOST_, because there *are* basically the same, next we combine the columns _headline with _short_description_ these are our predictor text"
      ]
    },
    {
      "cell_type": "code",
      "metadata": {
        "id": "d6LAienOaYWK",
        "colab_type": "code",
        "colab": {}
      },
      "source": [
        "df_news.category = df_news.category.map(lambda x: \"WORLDPOST\" if x == \"THE WORLDPOST\" else x)"
      ],
      "execution_count": 0,
      "outputs": []
    },
    {
      "cell_type": "code",
      "metadata": {
        "id": "Krxkn3DlRGKy",
        "colab_type": "code",
        "colab": {}
      },
      "source": [
        "df_news['text'] = df_news['headline'] + \" \" + df_news['short_description']"
      ],
      "execution_count": 0,
      "outputs": []
    },
    {
      "cell_type": "code",
      "metadata": {
        "id": "8szUOO89F7Pb",
        "colab_type": "code",
        "outputId": "3883843c-168a-461f-9cbf-b1692a467089",
        "colab": {
          "base_uri": "https://localhost:8080/",
          "height": 34
        }
      },
      "source": [
        "df_news.text[10]"
      ],
      "execution_count": 23,
      "outputs": [
        {
          "output_type": "execute_result",
          "data": {
            "text/plain": [
              "'Justin Timberlake Visits Texas School Shooting Victims The pop star also wore a \"Santa Fe Strong\" shirt at his show in Houston.'"
            ]
          },
          "metadata": {
            "tags": []
          },
          "execution_count": 23
        }
      ]
    },
    {
      "cell_type": "code",
      "metadata": {
        "id": "ko8SdYaAKkNz",
        "colab_type": "code",
        "outputId": "d8e8c5ba-37b0-47e9-e996-54df762687ae",
        "colab": {
          "base_uri": "https://localhost:8080/",
          "height": 34
        }
      },
      "source": [
        "clean_txt(df_news.text[11])"
      ],
      "execution_count": 24,
      "outputs": [
        {
          "output_type": "execute_result",
          "data": {
            "text/plain": [
              "'south korean president meet north koreas kim jong talk trump summit two meet pave way summit north korean'"
            ]
          },
          "metadata": {
            "tags": []
          },
          "execution_count": 24
        }
      ]
    },
    {
      "cell_type": "code",
      "metadata": {
        "id": "oUrYjPuCX6pY",
        "colab_type": "code",
        "outputId": "aaae8ca7-f129-4f83-b117-e85c77a85003",
        "colab": {
          "base_uri": "https://localhost:8080/",
          "height": 54
        }
      },
      "source": [
        "clean_txt(df_news.text[5])"
      ],
      "execution_count": 25,
      "outputs": [
        {
          "output_type": "execute_result",
          "data": {
            "text/plain": [
              "'morgan freeman devastate sexual harassment claim could undermine legacy right equate horrific incidents sexual assault misplace compliment humor statement'"
            ]
          },
          "metadata": {
            "tags": []
          },
          "execution_count": 25
        }
      ]
    },
    {
      "cell_type": "markdown",
      "metadata": {
        "id": "URKkbPdHobmv",
        "colab_type": "text"
      },
      "source": [
        "#### Next we are going to create some news variables columns to try to improve the quaity of our classifier, we will create:\n",
        " * Polarity: to check the sentiment of the text\n",
        " * Subjectivity: to check if text is objective or subjective\n",
        " * The number of word in the text"
      ]
    },
    {
      "cell_type": "code",
      "metadata": {
        "id": "PQwmHlggLQh3",
        "colab_type": "code",
        "outputId": "5e5d1e73-f035-4b83-f23f-745c8924588d",
        "colab": {
          "base_uri": "https://localhost:8080/",
          "height": 34
        }
      },
      "source": [
        "blob = TextBlob((df_news.text[1]))\n",
        "str(blob.correct())"
      ],
      "execution_count": 26,
      "outputs": [
        {
          "output_type": "execute_result",
          "data": {
            "text/plain": [
              "\"Will Smith Coins Diplo And Sick Am For The 2018 World Up's Official Long Of course it has a song.\""
            ]
          },
          "metadata": {
            "tags": []
          },
          "execution_count": 26
        }
      ]
    },
    {
      "cell_type": "code",
      "metadata": {
        "id": "0jZIFDWffZZG",
        "colab_type": "code",
        "colab": {}
      },
      "source": [
        "def polarity_txt(text):\n",
        "  return TextBlob(text).sentiment[0] "
      ],
      "execution_count": 0,
      "outputs": []
    },
    {
      "cell_type": "code",
      "metadata": {
        "id": "53k1xVBnf4ii",
        "colab_type": "code",
        "colab": {}
      },
      "source": [
        "def subj_txt(text):\n",
        "  return  TextBlob(text).sentiment[1]"
      ],
      "execution_count": 0,
      "outputs": []
    },
    {
      "cell_type": "code",
      "metadata": {
        "id": "ldkuSvy8gIHj",
        "colab_type": "code",
        "colab": {}
      },
      "source": [
        "def len_text(text):\n",
        "  if len(text.split())>0:\n",
        "         return len(set(clean_txt(text).split()))/ len(text.split())\n",
        "  else:\n",
        "         return 0"
      ],
      "execution_count": 0,
      "outputs": []
    },
    {
      "cell_type": "code",
      "metadata": {
        "id": "6O6-eHthgahT",
        "colab_type": "code",
        "outputId": "b366c156-7a9f-4d12-cbe1-8d2cc3049e90",
        "colab": {
          "base_uri": "https://localhost:8080/",
          "height": 224
        }
      },
      "source": [
        "df_news['polarity'] = df_news['text'].apply(polarity_txt)\n",
        "df_news.head(2)"
      ],
      "execution_count": 30,
      "outputs": [
        {
          "output_type": "execute_result",
          "data": {
            "text/html": [
              "<div>\n",
              "<style scoped>\n",
              "    .dataframe tbody tr th:only-of-type {\n",
              "        vertical-align: middle;\n",
              "    }\n",
              "\n",
              "    .dataframe tbody tr th {\n",
              "        vertical-align: top;\n",
              "    }\n",
              "\n",
              "    .dataframe thead th {\n",
              "        text-align: right;\n",
              "    }\n",
              "</style>\n",
              "<table border=\"1\" class=\"dataframe\">\n",
              "  <thead>\n",
              "    <tr style=\"text-align: right;\">\n",
              "      <th></th>\n",
              "      <th>authors</th>\n",
              "      <th>category</th>\n",
              "      <th>date</th>\n",
              "      <th>headline</th>\n",
              "      <th>link</th>\n",
              "      <th>short_description</th>\n",
              "      <th>text</th>\n",
              "      <th>polarity</th>\n",
              "    </tr>\n",
              "  </thead>\n",
              "  <tbody>\n",
              "    <tr>\n",
              "      <th>0</th>\n",
              "      <td>Melissa Jeltsen</td>\n",
              "      <td>CRIME</td>\n",
              "      <td>2018-05-26</td>\n",
              "      <td>There Were 2 Mass Shootings In Texas Last Week...</td>\n",
              "      <td>https://www.huffingtonpost.com/entry/texas-ama...</td>\n",
              "      <td>She left her husband. He killed their children...</td>\n",
              "      <td>There Were 2 Mass Shootings In Texas Last Week...</td>\n",
              "      <td>-0.05</td>\n",
              "    </tr>\n",
              "    <tr>\n",
              "      <th>1</th>\n",
              "      <td>Andy McDonald</td>\n",
              "      <td>ENTERTAINMENT</td>\n",
              "      <td>2018-05-26</td>\n",
              "      <td>Will Smith Joins Diplo And Nicky Jam For The 2...</td>\n",
              "      <td>https://www.huffingtonpost.com/entry/will-smit...</td>\n",
              "      <td>Of course it has a song.</td>\n",
              "      <td>Will Smith Joins Diplo And Nicky Jam For The 2...</td>\n",
              "      <td>0.00</td>\n",
              "    </tr>\n",
              "  </tbody>\n",
              "</table>\n",
              "</div>"
            ],
            "text/plain": [
              "           authors  ... polarity\n",
              "0  Melissa Jeltsen  ...    -0.05\n",
              "1    Andy McDonald  ...     0.00\n",
              "\n",
              "[2 rows x 8 columns]"
            ]
          },
          "metadata": {
            "tags": []
          },
          "execution_count": 30
        }
      ]
    },
    {
      "cell_type": "code",
      "metadata": {
        "id": "wJN36PXth08E",
        "colab_type": "code",
        "outputId": "bf07db14-7e89-4391-8313-20e68a49d815",
        "colab": {
          "base_uri": "https://localhost:8080/",
          "height": 291
        }
      },
      "source": [
        "df_news['subjectivity'] = df_news['text'].apply(subj_txt)\n",
        "df_news.head(2)"
      ],
      "execution_count": 31,
      "outputs": [
        {
          "output_type": "execute_result",
          "data": {
            "text/html": [
              "<div>\n",
              "<style scoped>\n",
              "    .dataframe tbody tr th:only-of-type {\n",
              "        vertical-align: middle;\n",
              "    }\n",
              "\n",
              "    .dataframe tbody tr th {\n",
              "        vertical-align: top;\n",
              "    }\n",
              "\n",
              "    .dataframe thead th {\n",
              "        text-align: right;\n",
              "    }\n",
              "</style>\n",
              "<table border=\"1\" class=\"dataframe\">\n",
              "  <thead>\n",
              "    <tr style=\"text-align: right;\">\n",
              "      <th></th>\n",
              "      <th>authors</th>\n",
              "      <th>category</th>\n",
              "      <th>date</th>\n",
              "      <th>headline</th>\n",
              "      <th>link</th>\n",
              "      <th>short_description</th>\n",
              "      <th>text</th>\n",
              "      <th>polarity</th>\n",
              "      <th>subjectivity</th>\n",
              "    </tr>\n",
              "  </thead>\n",
              "  <tbody>\n",
              "    <tr>\n",
              "      <th>0</th>\n",
              "      <td>Melissa Jeltsen</td>\n",
              "      <td>CRIME</td>\n",
              "      <td>2018-05-26</td>\n",
              "      <td>There Were 2 Mass Shootings In Texas Last Week...</td>\n",
              "      <td>https://www.huffingtonpost.com/entry/texas-ama...</td>\n",
              "      <td>She left her husband. He killed their children...</td>\n",
              "      <td>There Were 2 Mass Shootings In Texas Last Week...</td>\n",
              "      <td>-0.05</td>\n",
              "      <td>0.266667</td>\n",
              "    </tr>\n",
              "    <tr>\n",
              "      <th>1</th>\n",
              "      <td>Andy McDonald</td>\n",
              "      <td>ENTERTAINMENT</td>\n",
              "      <td>2018-05-26</td>\n",
              "      <td>Will Smith Joins Diplo And Nicky Jam For The 2...</td>\n",
              "      <td>https://www.huffingtonpost.com/entry/will-smit...</td>\n",
              "      <td>Of course it has a song.</td>\n",
              "      <td>Will Smith Joins Diplo And Nicky Jam For The 2...</td>\n",
              "      <td>0.00</td>\n",
              "      <td>0.000000</td>\n",
              "    </tr>\n",
              "  </tbody>\n",
              "</table>\n",
              "</div>"
            ],
            "text/plain": [
              "           authors       category  ... polarity subjectivity\n",
              "0  Melissa Jeltsen          CRIME  ...    -0.05     0.266667\n",
              "1    Andy McDonald  ENTERTAINMENT  ...     0.00     0.000000\n",
              "\n",
              "[2 rows x 9 columns]"
            ]
          },
          "metadata": {
            "tags": []
          },
          "execution_count": 31
        }
      ]
    },
    {
      "cell_type": "code",
      "metadata": {
        "id": "uutCGpyHi0JG",
        "colab_type": "code",
        "outputId": "218c7b48-7040-420c-a659-dfe8bcd2fdb3",
        "colab": {
          "base_uri": "https://localhost:8080/",
          "height": 311
        }
      },
      "source": [
        "df_news['len'] = df_news['text'].apply(len_text)\n",
        "df_news.head(2)"
      ],
      "execution_count": 32,
      "outputs": [
        {
          "output_type": "execute_result",
          "data": {
            "text/html": [
              "<div>\n",
              "<style scoped>\n",
              "    .dataframe tbody tr th:only-of-type {\n",
              "        vertical-align: middle;\n",
              "    }\n",
              "\n",
              "    .dataframe tbody tr th {\n",
              "        vertical-align: top;\n",
              "    }\n",
              "\n",
              "    .dataframe thead th {\n",
              "        text-align: right;\n",
              "    }\n",
              "</style>\n",
              "<table border=\"1\" class=\"dataframe\">\n",
              "  <thead>\n",
              "    <tr style=\"text-align: right;\">\n",
              "      <th></th>\n",
              "      <th>authors</th>\n",
              "      <th>category</th>\n",
              "      <th>date</th>\n",
              "      <th>headline</th>\n",
              "      <th>link</th>\n",
              "      <th>short_description</th>\n",
              "      <th>text</th>\n",
              "      <th>polarity</th>\n",
              "      <th>subjectivity</th>\n",
              "      <th>len</th>\n",
              "    </tr>\n",
              "  </thead>\n",
              "  <tbody>\n",
              "    <tr>\n",
              "      <th>0</th>\n",
              "      <td>Melissa Jeltsen</td>\n",
              "      <td>CRIME</td>\n",
              "      <td>2018-05-26</td>\n",
              "      <td>There Were 2 Mass Shootings In Texas Last Week...</td>\n",
              "      <td>https://www.huffingtonpost.com/entry/texas-ama...</td>\n",
              "      <td>She left her husband. He killed their children...</td>\n",
              "      <td>There Were 2 Mass Shootings In Texas Last Week...</td>\n",
              "      <td>-0.05</td>\n",
              "      <td>0.266667</td>\n",
              "      <td>0.444444</td>\n",
              "    </tr>\n",
              "    <tr>\n",
              "      <th>1</th>\n",
              "      <td>Andy McDonald</td>\n",
              "      <td>ENTERTAINMENT</td>\n",
              "      <td>2018-05-26</td>\n",
              "      <td>Will Smith Joins Diplo And Nicky Jam For The 2...</td>\n",
              "      <td>https://www.huffingtonpost.com/entry/will-smit...</td>\n",
              "      <td>Of course it has a song.</td>\n",
              "      <td>Will Smith Joins Diplo And Nicky Jam For The 2...</td>\n",
              "      <td>0.00</td>\n",
              "      <td>0.000000</td>\n",
              "      <td>0.500000</td>\n",
              "    </tr>\n",
              "  </tbody>\n",
              "</table>\n",
              "</div>"
            ],
            "text/plain": [
              "           authors       category       date  ... polarity subjectivity       len\n",
              "0  Melissa Jeltsen          CRIME 2018-05-26  ...    -0.05     0.266667  0.444444\n",
              "1    Andy McDonald  ENTERTAINMENT 2018-05-26  ...     0.00     0.000000  0.500000\n",
              "\n",
              "[2 rows x 10 columns]"
            ]
          },
          "metadata": {
            "tags": []
          },
          "execution_count": 32
        }
      ]
    },
    {
      "cell_type": "code",
      "metadata": {
        "id": "atQIlYB0mAwL",
        "colab_type": "code",
        "outputId": "5e9a4424-daa3-4a0c-95ec-0aa4d1d62520",
        "colab": {
          "base_uri": "https://localhost:8080/",
          "height": 34
        }
      },
      "source": [
        "data = df_news.head(1)\n",
        "{'pos':  data['polarity'].values[0], 'sub': data['subjectivity'].values[0],  'len': data['len'].values[0]} "
      ],
      "execution_count": 33,
      "outputs": [
        {
          "output_type": "execute_result",
          "data": {
            "text/plain": [
              "{'len': 0.4444444444444444, 'pos': -0.05, 'sub': 0.26666666666666666}"
            ]
          },
          "metadata": {
            "tags": []
          },
          "execution_count": 33
        }
      ]
    },
    {
      "cell_type": "markdown",
      "metadata": {
        "id": "oGKZJUm0LyWr",
        "colab_type": "text"
      },
      "source": [
        "#### Make the Custom class for feature union Transformer of sklearn"
      ]
    },
    {
      "cell_type": "code",
      "metadata": {
        "id": "xATexe2Bli3y",
        "colab_type": "code",
        "colab": {}
      },
      "source": [
        "from sklearn.base import BaseEstimator, TransformerMixin\n",
        "from sklearn.pipeline import FeatureUnion\n",
        "from sklearn.feature_extraction import DictVectorizer\n",
        "class ItemSelector(BaseEstimator, TransformerMixin):\n",
        "    def __init__(self, key):\n",
        "        self.key = key\n",
        "\n",
        "    def fit(self, x, y=None):\n",
        "        return self\n",
        "\n",
        "    def transform(self, data_dict):\n",
        "        return data_dict[self.key]\n",
        "\n",
        "\n",
        "class TextStats(BaseEstimator, TransformerMixin):\n",
        "    \"\"\"Extract features from each document for DictVectorizer\"\"\"\n",
        "\n",
        "    def fit(self, x, y=None):\n",
        "        return self\n",
        "\n",
        "    def transform(self, data):\n",
        "        return [{'pos':  row['polarity'], 'sub': row['subjectivity'],  'len': row['len']} for _, row in data.iterrows()]\n"
      ],
      "execution_count": 0,
      "outputs": []
    },
    {
      "cell_type": "markdown",
      "metadata": {
        "id": "rnRZabxvH_fM",
        "colab_type": "text"
      },
      "source": [
        "### Make our Custom Pipeline"
      ]
    },
    {
      "cell_type": "code",
      "metadata": {
        "id": "UIPqod8rodN7",
        "colab_type": "code",
        "colab": {}
      },
      "source": [
        "pipeline = Pipeline([\n",
        "    ('union', FeatureUnion(\n",
        "        transformer_list=[\n",
        "\n",
        "            # Pipeline for pulling features from the text\n",
        "            ('text', Pipeline([\n",
        "                ('selector', ItemSelector(key='text')),\n",
        "                ('tfidf', TfidfVectorizer( min_df =3, max_df=0.2, max_features=None, \n",
        "                    strip_accents='unicode', analyzer='word',token_pattern=r'\\w{1,}',\n",
        "                    ngram_range=(1, 10), use_idf=1,smooth_idf=1,sublinear_tf=1,\n",
        "                    stop_words = None, preprocessor=clean_txt)),\n",
        "            ])),\n",
        "\n",
        "            # Pipeline for pulling metadata features\n",
        "            ('stats', Pipeline([\n",
        "                ('selector', ItemSelector(key=['polarity', 'subjectivity', 'len'])),\n",
        "                ('stats', TextStats()),  # returns a list of dicts\n",
        "                ('vect', DictVectorizer()),  # list of dicts -> feature matrix\n",
        "            ])),\n",
        "\n",
        "        ],\n",
        "\n",
        "        # weight components in FeatureUnion\n",
        "        transformer_weights={\n",
        "            'text': 0.9,\n",
        "            'stats': 1.5,\n",
        "        },\n",
        "    ))\n",
        "])"
      ],
      "execution_count": 0,
      "outputs": []
    },
    {
      "cell_type": "markdown",
      "metadata": {
        "id": "-qCVUm-od66a",
        "colab_type": "text"
      },
      "source": [
        "##### Build the pipeline"
      ]
    },
    {
      "cell_type": "code",
      "metadata": {
        "id": "VXNFcL5Ap3vl",
        "colab_type": "code",
        "colab": {}
      },
      "source": [
        "from sklearn.preprocessing import LabelEncoder\n",
        "from sklearn.model_selection import train_test_split\n",
        "seed = 40\n",
        "X = df_news[['text', 'polarity', 'subjectivity','len']]\n",
        "y =df_news['category']\n",
        "encoder = LabelEncoder()\n",
        "y = encoder.fit_transform(y)\n",
        "x_train, x_test, y_train, y_test = train_test_split(X, y, test_size=0.2, random_state=seed, stratify=y)"
      ],
      "execution_count": 0,
      "outputs": []
    },
    {
      "cell_type": "code",
      "metadata": {
        "id": "ajlhRbVEqBy6",
        "colab_type": "code",
        "outputId": "ce29348c-eecb-4549-9532-cbb10fb19b3e",
        "colab": {
          "base_uri": "https://localhost:8080/",
          "height": 703
        }
      },
      "source": [
        "pipeline.fit(x_train)"
      ],
      "execution_count": 37,
      "outputs": [
        {
          "output_type": "execute_result",
          "data": {
            "text/plain": [
              "Pipeline(memory=None,\n",
              "         steps=[('union',\n",
              "                 FeatureUnion(n_jobs=None,\n",
              "                              transformer_list=[('text',\n",
              "                                                 Pipeline(memory=None,\n",
              "                                                          steps=[('selector',\n",
              "                                                                  ItemSelector(key='text')),\n",
              "                                                                 ('tfidf',\n",
              "                                                                  TfidfVectorizer(analyzer='word',\n",
              "                                                                                  binary=False,\n",
              "                                                                                  decode_error='strict',\n",
              "                                                                                  dtype=<class 'numpy.float64'>,\n",
              "                                                                                  encoding='utf-8',\n",
              "                                                                                  input='content',\n",
              "                                                                                  lowercase=True,\n",
              "                                                                                  max_df=0.2,\n",
              "                                                                                  max_features=None,\n",
              "                                                                                  min_df=3,\n",
              "                                                                                  ngram...\n",
              "                                                                                  use_idf=1,\n",
              "                                                                                  vocabulary=None))],\n",
              "                                                          verbose=False)),\n",
              "                                                ('stats',\n",
              "                                                 Pipeline(memory=None,\n",
              "                                                          steps=[('selector',\n",
              "                                                                  ItemSelector(key=['polarity',\n",
              "                                                                                    'subjectivity',\n",
              "                                                                                    'len'])),\n",
              "                                                                 ('stats',\n",
              "                                                                  TextStats()),\n",
              "                                                                 ('vect',\n",
              "                                                                  DictVectorizer(dtype=<class 'numpy.float64'>,\n",
              "                                                                                 separator='=',\n",
              "                                                                                 sort=True,\n",
              "                                                                                 sparse=True))],\n",
              "                                                          verbose=False))],\n",
              "                              transformer_weights={'stats': 1.5, 'text': 0.9},\n",
              "                              verbose=False))],\n",
              "         verbose=False)"
            ]
          },
          "metadata": {
            "tags": []
          },
          "execution_count": 37
        }
      ]
    },
    {
      "cell_type": "markdown",
      "metadata": {
        "id": "GqTZO6_6IJ2F",
        "colab_type": "text"
      },
      "source": [
        "### Transform and train the ML models"
      ]
    },
    {
      "cell_type": "code",
      "metadata": {
        "id": "eR_aXBY1qZoC",
        "colab_type": "code",
        "outputId": "d530f097-9f07-48b2-d5e2-249426abfa57",
        "colab": {
          "base_uri": "https://localhost:8080/",
          "height": 70
        }
      },
      "source": [
        "%%time\n",
        "train_vec = pipeline.transform(x_train)\n",
        "test_vec = pipeline.transform(x_test)\n",
        "print(\"Checking that the number of features in train and test correspond: %s - %s\" % (train_vec.shape, test_vec.shape))"
      ],
      "execution_count": 38,
      "outputs": [
        {
          "output_type": "stream",
          "text": [
            "Checking that the number of features in train and test correspond: (160682, 189409) - (40171, 189409)\n",
            "CPU times: user 1min 53s, sys: 101 ms, total: 1min 53s\n",
            "Wall time: 1min 53s\n"
          ],
          "name": "stdout"
        }
      ]
    },
    {
      "cell_type": "code",
      "metadata": {
        "id": "FMbmLAhbzq0m",
        "colab_type": "code",
        "colab": {}
      },
      "source": [
        "clf_sv = LinearSVC(C=1, class_weight='balanced', multi_class='ovr', random_state=40, max_iter=10000) #Support Vector machines\n",
        "clf_sgd = SGDClassifier(max_iter=200,) # Stochastic Gradient Classifier"
      ],
      "execution_count": 0,
      "outputs": []
    },
    {
      "cell_type": "code",
      "metadata": {
        "id": "yDm5ZabgquGM",
        "colab_type": "code",
        "outputId": "3f927f68-c257-410a-ce05-443b140afaea",
        "colab": {
          "base_uri": "https://localhost:8080/",
          "height": 122
        }
      },
      "source": [
        "%%time\n",
        "from sklearn.model_selection import cross_val_score\n",
        "\n",
        "clfs = [clf_sv, clf_sgd]\n",
        "cv = 3\n",
        "for clf in clfs:\n",
        "    scores = cross_val_score(clf,train_vec, y_train, cv=cv, scoring=\"accuracy\" )\n",
        "    print (scores)\n",
        "    print ((\"Mean score: {0:.3f} (+/-{1:.3f})\").format(\n",
        "        np.mean(scores), np.std(scores)))"
      ],
      "execution_count": 40,
      "outputs": [
        {
          "output_type": "stream",
          "text": [
            "[0.60213167 0.60403637 0.60228589]\n",
            "Mean score: 0.603 (+/-0.001)\n",
            "[0.58182293 0.58075537 0.57257311]\n",
            "Mean score: 0.578 (+/-0.004)\n",
            "CPU times: user 2min 43s, sys: 10.5 s, total: 2min 54s\n",
            "Wall time: 2min 40s\n"
          ],
          "name": "stdout"
        }
      ]
    },
    {
      "cell_type": "code",
      "metadata": {
        "id": "5xyiXEzr8_l8",
        "colab_type": "code",
        "outputId": "d06d926b-4e3a-4102-b5f6-629e4ad9451d",
        "colab": {
          "base_uri": "https://localhost:8080/",
          "height": 70
        }
      },
      "source": [
        "%%time\n",
        "from sklearn.metrics import classification_report\n",
        "clf_sv.fit(train_vec, y_train )\n",
        "y_pred = clf_sv.predict(test_vec)\n",
        "list_result =[]\n",
        "list_result.append((\"SVC\",accuracy_score(y_test, y_pred)))\n",
        "clf_sgd.fit(train_vec, y_train )\n",
        "y_pred = clf_sgd.predict(test_vec)\n",
        "list_result.append((\"SGD\",accuracy_score(y_test, y_pred)))\n",
        "\n",
        "print(list_result)\n"
      ],
      "execution_count": 41,
      "outputs": [
        {
          "output_type": "stream",
          "text": [
            "[('SVC', 0.6134773841826193), ('SGD', 0.5806925393940903)]\n",
            "CPU times: user 1min 33s, sys: 3.5 s, total: 1min 37s\n",
            "Wall time: 1min 32s\n"
          ],
          "name": "stdout"
        }
      ]
    },
    {
      "cell_type": "markdown",
      "metadata": {
        "id": "44dqcX6IH0A6",
        "colab_type": "text"
      },
      "source": [
        "### Deep Learning and Spacy Models"
      ]
    },
    {
      "cell_type": "code",
      "metadata": {
        "id": "X2UOUY86HyQU",
        "colab_type": "code",
        "colab": {
          "base_uri": "https://localhost:8080/",
          "height": 178
        },
        "outputId": "b618a3d3-7d90-4a3a-e149-aa1af33b50d2"
      },
      "source": [
        "import spacy\n",
        "!python -m spacy download en_core_web_lg\n"
      ],
      "execution_count": 42,
      "outputs": [
        {
          "output_type": "stream",
          "text": [
            "Requirement already satisfied: en_core_web_lg==2.0.0 from https://github.com/explosion/spacy-models/releases/download/en_core_web_lg-2.0.0/en_core_web_lg-2.0.0.tar.gz#egg=en_core_web_lg==2.0.0 in /usr/local/lib/python3.6/dist-packages (2.0.0)\n",
            "\n",
            "\u001b[93m    Linking successful\u001b[0m\n",
            "    /usr/local/lib/python3.6/dist-packages/en_core_web_lg -->\n",
            "    /usr/local/lib/python3.6/dist-packages/spacy/data/en_core_web_lg\n",
            "\n",
            "    You can now load the model via spacy.load('en_core_web_lg')\n",
            "\n"
          ],
          "name": "stdout"
        }
      ]
    },
    {
      "cell_type": "code",
      "metadata": {
        "id": "hE0SawP1mmRn",
        "colab_type": "code",
        "colab": {}
      },
      "source": [
        "nlp = spacy.load('en_core_web_lg')"
      ],
      "execution_count": 0,
      "outputs": []
    },
    {
      "cell_type": "code",
      "metadata": {
        "id": "RAXDKTDFQtI6",
        "colab_type": "code",
        "colab": {}
      },
      "source": [
        "from keras.preprocessing.text import Tokenizer\n",
        "from keras.models import Sequential\n",
        "from keras.layers import Activation, Dense, Dropout, LSTM, Embedding\n",
        "from sklearn.preprocessing import LabelBinarizer\n",
        "from keras.preprocessing.text import Tokenizer, text_to_word_sequence\n",
        "from keras.preprocessing.sequence import pad_sequences\n",
        "from keras.utils import np_utils\n",
        "from keras.layers import Dense, Input, LSTM, Bidirectional, Activation, Conv1D, GRU, TimeDistributed\n",
        "from keras.layers import Dropout, Embedding, GlobalMaxPooling1D, MaxPooling1D, Add, Flatten, SpatialDropout1D\n",
        "from keras.layers import GlobalAveragePooling1D, BatchNormalization, concatenate\n",
        "from keras.layers import Reshape, merge, Concatenate, Lambda, Average\n",
        "from keras import backend as K\n",
        "from keras.engine.topology import Layer\n",
        "from keras import initializers, regularizers, constraints"
      ],
      "execution_count": 0,
      "outputs": []
    },
    {
      "cell_type": "code",
      "metadata": {
        "id": "xlSomTwdQu-v",
        "colab_type": "code",
        "colab": {}
      },
      "source": [
        "from sklearn.model_selection import train_test_split\n",
        "import time\n",
        "X = df_news['text']\n",
        "y =df_news['category']\n",
        "encoder = LabelEncoder()\n",
        "y = encoder.fit_transform(y)\n",
        "# `to_categorical` converts this into a matrix with as many columns as there are classes. \n",
        "Y = np_utils.to_categorical(y)\n",
        "##Create the tf-idf vector\n",
        "vectorizer = TfidfVectorizer( min_df =3, max_df=0.2, max_features=None, \n",
        "            strip_accents='unicode', analyzer='word',token_pattern=r'\\w{1,}',\n",
        "            use_idf=1,smooth_idf=1,sublinear_tf=1,\n",
        "            stop_words = None, preprocessor=clean_txt)\n",
        "\n",
        "\n",
        "\n"
      ],
      "execution_count": 0,
      "outputs": []
    },
    {
      "cell_type": "code",
      "metadata": {
        "id": "wvnlG0jpbJLZ",
        "colab_type": "code",
        "outputId": "2806a76f-c9a4-44f7-c42c-5e8b78066837",
        "colab": {
          "base_uri": "https://localhost:8080/",
          "height": 158
        }
      },
      "source": [
        "seed = 40\n",
        "x_train, x_test, y_train, y_test = train_test_split(X, Y, test_size=0.2, random_state=seed, stratify =y)\n",
        "#Learn vocabulary and idf from training set\n",
        "vectorizer.fit(x_train)"
      ],
      "execution_count": 46,
      "outputs": [
        {
          "output_type": "execute_result",
          "data": {
            "text/plain": [
              "TfidfVectorizer(analyzer='word', binary=False, decode_error='strict',\n",
              "                dtype=<class 'numpy.float64'>, encoding='utf-8',\n",
              "                input='content', lowercase=True, max_df=0.2, max_features=None,\n",
              "                min_df=3, ngram_range=(1, 1), norm='l2',\n",
              "                preprocessor=<function clean_txt at 0x7f2e15e82f28>,\n",
              "                smooth_idf=1, stop_words=None, strip_accents='unicode',\n",
              "                sublinear_tf=1, token_pattern='\\\\w{1,}', tokenizer=None,\n",
              "                use_idf=1, vocabulary=None)"
            ]
          },
          "metadata": {
            "tags": []
          },
          "execution_count": 46
        }
      ]
    },
    {
      "cell_type": "code",
      "metadata": {
        "id": "DIIZHBXnxJOs",
        "colab_type": "code",
        "colab": {
          "base_uri": "https://localhost:8080/",
          "height": 1126
        },
        "outputId": "726829ae-05e2-4659-8d55-79f95c86ca79"
      },
      "source": [
        "print(x_train.shape)\n",
        "print(x_train)\n",
        "#print(x_train[:2])"
      ],
      "execution_count": 47,
      "outputs": [
        {
          "output_type": "stream",
          "text": [
            "(160682,)\n",
            "36727     The Obamas Head Straight To Palm Springs For A...\n",
            "80533     What The Marijuana Lobby Could Offer Hillary C...\n",
            "16110     GOP Senators Are Pushing Lisa Murkowski For A ...\n",
            "37325     Rep. John Lewis: Trump Is Not A 'Legitimate Pr...\n",
            "54162     Feds Move To Block North Carolina From Enforci...\n",
            "95519     Israel and Her Minorities If Israel wishes to ...\n",
            "59447     Kentucky Derby Favorite Nyquist Looks To Follo...\n",
            "16605     Alaska Road Trip Offers A Rare Look At The Las...\n",
            "29499     Civility Strikes Back Style and substance are ...\n",
            "25390     Reporter Out At Denver Post After 'Unacceptabl...\n",
            "168858    Rebecca O'Grady and Orion Kirkpatrick: How We ...\n",
            "37990     Zoe Saldana Goes Unfiltered About Her 'Gangste...\n",
            "108267    WATCH: Marshawn Lynch Wants Nothing To Do With...\n",
            "28180     ‘Spoiling The Belly’: The Dangers Of Backstree...\n",
            "44021     Even The Military Is Sick Of EpiPen's Price Hi...\n",
            "82329     Meet The Amazing Woman Who Created Her Family ...\n",
            "73556     If We’re Going To End Factory Farms, We Need T...\n",
            "146512    Alec Baldwin Learns Life Lessons From 9 Year O...\n",
            "87697     Maxisms: 8 Things I Learned from My Crazy Fath...\n",
            "171106    Holistic Help for Holiday Stress The holidays ...\n",
            "192093    Everything I Need To Know To Stay Happily Marr...\n",
            "6443      Bernie Sanders Slow-Clapping Donald Trump Is Y...\n",
            "2698      Anne Hathaway Shuts Down Potential Body Shamer...\n",
            "139608    The World's 10 Most Polluted Places Remote ind...\n",
            "91670     The Ring's the Thing Back in 1977, I was in th...\n",
            "107575    Project Runway Empire With the addition of Pro...\n",
            "55037     Britons Turn To Poetry To Express Their Feelin...\n",
            "38535     Friday's Morning Email: Putin Says He's Waitin...\n",
            "106135    What Is Causing the Drag? Using inflation-adju...\n",
            "158116    Are You Prepared for Love? 5 Ways to Prepare Y...\n",
            "                                ...                        \n",
            "172845    LIPA Customers Left Without Power For Weeks Se...\n",
            "141341    Museum Lovers' Guide to Milwaukee Milwaukee is...\n",
            "64942     NASA Spots Snow On Pluto's Mountain Peaks Now ...\n",
            "1618      Trevor Noah Taunts Fox News Over Kanye West's ...\n",
            "187643    Boning Up on Chin Implants While chin augmenta...\n",
            "200575    Istanbul's 10 Most Romantic Spots (PHOTOS) . M...\n",
            "101012    Libya Recalls Former General Haftar For Army D...\n",
            "25993     Walking Out On V.P. Pence Accomplished Less Th...\n",
            "159392    By the Power Vested in Me What does one say wh...\n",
            "95251     If You Do The Work, No Force on the Earth Can ...\n",
            "43178     Here's Why Clinton Supporters Are Wearing Whit...\n",
            "116516       5 Things You Say That Make Retired People Mad \n",
            "147258    Of Lyme Disease, and Lemonade Lyme is common, ...\n",
            "133529    Precautions and Care Tips for Alzheimer's Pati...\n",
            "93441                  Photography Perspectives and Tricks \n",
            "33277     Jimmy Kimmel Attacks Donald Trump During Oscar...\n",
            "176951    Decoding The Wine Label For most, a wine label...\n",
            "113517    Dear Middle-Aged Man Who Stopped to Chat With ...\n",
            "59026     Russian Insider: State-Run Doping Led To Gold ...\n",
            "22197     To Fight Radicalization In Southeast Asia, Emp...\n",
            "97440     Sunday Roundup This week demonstrated the powe...\n",
            "21459     'Walking Dead' Stars Mourn The Death Of Stuntm...\n",
            "167167    The Mighty Oyster Mushroom: The Workhorse of G...\n",
            "157202    Why We 'Self-Medicate' Our Own Depression or A...\n",
            "62530     Photographer Captures The Secret Feminist Utop...\n",
            "180159    Table Talk: Local School Lunches While some st...\n",
            "135270    Jackie Shaheed Lost Nearly 200 Pounds And Star...\n",
            "32466     U.S. Intel Officials Knew Last Year About CIA ...\n",
            "55816     Sumner Redstone Moves To Oust Viacom Board Mem...\n",
            "155632    'Fast & Furious' Box Office Impresses, Beating...\n",
            "Name: text, Length: 160682, dtype: object\n"
          ],
          "name": "stdout"
        }
      ]
    },
    {
      "cell_type": "code",
      "metadata": {
        "id": "LHDqKHCSb0-6",
        "colab_type": "code",
        "outputId": "51909605-ddb9-4b25-8e8f-ec2d055da1e6",
        "colab": {
          "base_uri": "https://localhost:8080/",
          "height": 34
        }
      },
      "source": [
        "\n",
        "word2idx = {word: idx for idx, word in enumerate(vectorizer.get_feature_names())}\n",
        "tokenize = vectorizer.build_tokenizer()\n",
        "preprocess = vectorizer.build_preprocessor()\n",
        "\n",
        "#to_sequence function returns index of each word(as in word2idx) in a sentence.i.e we are converting words into numbers.\n",
        "def to_sequence(tokenizer, preprocessor, index, text):\n",
        "    words = tokenizer(preprocessor(text))\n",
        "    indexes = [index[word] for word in words if word in index]\n",
        "    return indexes\n",
        "\n",
        "X_train_sequences = [to_sequence(tokenize, preprocess, word2idx, x) for x in x_train]\n",
        "print(X_train_sequences[0])\n",
        " "
      ],
      "execution_count": 48,
      "outputs": [
        {
          "output_type": "stream",
          "text": [
            "[18668, 11954, 25588, 19448, 25191, 20685, 29263, 12600, 28350, 25877, 24540, 27487, 24293]\n"
          ],
          "name": "stdout"
        }
      ]
    },
    {
      "cell_type": "code",
      "metadata": {
        "id": "EoN1a2lrcr5l",
        "colab_type": "code",
        "outputId": "6b0b53ac-6c49-4b93-b407-c93d99f4b4fb",
        "colab": {
          "base_uri": "https://localhost:8080/",
          "height": 105
        }
      },
      "source": [
        "# Compute the max lenght of a text\n",
        "\n",
        "MAX_SEQ_LENGHT=60\n",
        "\n",
        "N_FEATURES = len(vectorizer.get_feature_names())\n",
        "X_train_sequences = pad_sequences(X_train_sequences, maxlen=MAX_SEQ_LENGHT, value=N_FEATURES)\n",
        "print(X_train_sequences[0])\n",
        " "
      ],
      "execution_count": 49,
      "outputs": [
        {
          "output_type": "stream",
          "text": [
            "[29942 29942 29942 29942 29942 29942 29942 29942 29942 29942 29942 29942\n",
            " 29942 29942 29942 29942 29942 29942 29942 29942 29942 29942 29942 29942\n",
            " 29942 29942 29942 29942 29942 29942 29942 29942 29942 29942 29942 29942\n",
            " 29942 29942 29942 29942 29942 29942 29942 29942 29942 29942 29942 18668\n",
            " 11954 25588 19448 25191 20685 29263 12600 28350 25877 24540 27487 24293]\n"
          ],
          "name": "stdout"
        }
      ]
    },
    {
      "cell_type": "code",
      "metadata": {
        "id": "0Xcq3N53iqGx",
        "colab_type": "code",
        "colab": {}
      },
      "source": [
        "X_test_sequences = [to_sequence(tokenize, preprocess, word2idx, x) for x in x_test]\n",
        "X_test_sequences = pad_sequences(X_test_sequences, maxlen=MAX_SEQ_LENGHT, value=N_FEATURES)\n",
        " "
      ],
      "execution_count": 0,
      "outputs": []
    },
    {
      "cell_type": "markdown",
      "metadata": {
        "id": "8bHxFJLuIcdj",
        "colab_type": "text"
      },
      "source": [
        "#### Making the spacy embeding"
      ]
    },
    {
      "cell_type": "code",
      "metadata": {
        "id": "uFAas-cMf5Xg",
        "colab_type": "code",
        "outputId": "58f2b225-f485-44b8-828e-0ea0217631d7",
        "colab": {
          "base_uri": "https://localhost:8080/",
          "height": 34
        }
      },
      "source": [
        "#The en_core_web_lg has 300 dimensions. So we are initializing EMBEDDINGS_LEN=300\n",
        "EMBEDDINGS_LEN = 300\n",
        "\n",
        "embeddings_index = np.zeros((len(vectorizer.get_feature_names()) + 1, EMBEDDINGS_LEN))\n",
        "for word, idx in word2idx.items():\n",
        "    try:\n",
        "        embedding = nlp.vocab[word].vector\n",
        "        embeddings_index[idx] = embedding\n",
        "    except:\n",
        "        pass\n",
        "      \n",
        "print(\"EMBEDDINGS_LEN=\", EMBEDDINGS_LEN)   \n",
        "      "
      ],
      "execution_count": 51,
      "outputs": [
        {
          "output_type": "stream",
          "text": [
            "EMBEDDINGS_LEN= 300\n"
          ],
          "name": "stdout"
        }
      ]
    },
    {
      "cell_type": "code",
      "metadata": {
        "id": "aM9VYlkaJqAV",
        "colab_type": "code",
        "colab": {
          "base_uri": "https://localhost:8080/",
          "height": 34
        },
        "outputId": "d35cb2de-fcd6-483a-e19b-21bc237d6736"
      },
      "source": [
        "#print(len(vectorizer.get_feature_names()))\n",
        "print(nlp.vocab[\"russian\"].vector.shape)"
      ],
      "execution_count": 52,
      "outputs": [
        {
          "output_type": "stream",
          "text": [
            "(300,)\n"
          ],
          "name": "stdout"
        }
      ]
    },
    {
      "cell_type": "markdown",
      "metadata": {
        "id": "ZNoSyhzMIqTc",
        "colab_type": "text"
      },
      "source": [
        "#### Simple LSTM Model"
      ]
    },
    {
      "cell_type": "code",
      "metadata": {
        "id": "vH-uD5WmgEgg",
        "colab_type": "code",
        "outputId": "d11f9d6d-b02f-4fce-c333-cb73e32fdd46",
        "colab": {
          "base_uri": "https://localhost:8080/",
          "height": 389
        }
      },
      "source": [
        " \n",
        "model = Sequential()\n",
        "model.add(Embedding(len(vectorizer.get_feature_names()) + 1,\n",
        "                    EMBEDDINGS_LEN,  # Embedding size\n",
        "                    weights=[embeddings_index],\n",
        "                    input_length=MAX_SEQ_LENGHT,\n",
        "                    trainable=False))\n",
        "model.add(LSTM(300, dropout=0.2))\n",
        "model.add(Dense(len(set(y)), activation='softmax'))\n",
        " \n",
        "model.compile(loss='categorical_crossentropy', optimizer='adam', metrics=['accuracy'])\n",
        "print(model.summary())"
      ],
      "execution_count": 53,
      "outputs": [
        {
          "output_type": "stream",
          "text": [
            "WARNING:tensorflow:From /usr/local/lib/python3.6/dist-packages/tensorflow/python/framework/op_def_library.py:263: colocate_with (from tensorflow.python.framework.ops) is deprecated and will be removed in a future version.\n",
            "Instructions for updating:\n",
            "Colocations handled automatically by placer.\n",
            "WARNING:tensorflow:From /usr/local/lib/python3.6/dist-packages/keras/backend/tensorflow_backend.py:3445: calling dropout (from tensorflow.python.ops.nn_ops) with keep_prob is deprecated and will be removed in a future version.\n",
            "Instructions for updating:\n",
            "Please use `rate` instead of `keep_prob`. Rate should be set to `rate = 1 - keep_prob`.\n",
            "_________________________________________________________________\n",
            "Layer (type)                 Output Shape              Param #   \n",
            "=================================================================\n",
            "embedding_1 (Embedding)      (None, 60, 300)           8982900   \n",
            "_________________________________________________________________\n",
            "lstm_1 (LSTM)                (None, 300)               721200    \n",
            "_________________________________________________________________\n",
            "dense_1 (Dense)              (None, 40)                12040     \n",
            "=================================================================\n",
            "Total params: 9,716,140\n",
            "Trainable params: 733,240\n",
            "Non-trainable params: 8,982,900\n",
            "_________________________________________________________________\n",
            "None\n"
          ],
          "name": "stdout"
        }
      ]
    },
    {
      "cell_type": "code",
      "metadata": {
        "id": "hIib5rDCjSUD",
        "colab_type": "code",
        "outputId": "06a81ca3-9323-4f86-9c32-df44374b7d77",
        "colab": {
          "base_uri": "https://localhost:8080/",
          "height": 318
        }
      },
      "source": [
        "model.fit(X_train_sequences, y_train, \n",
        "          epochs=5, batch_size=128, verbose=1, \n",
        "          validation_split=0.1)\n",
        " \n",
        "scores = model.evaluate(X_test_sequences, y_test, verbose=1)\n",
        "print(\"Accuracy:\", scores[1])\n",
        "print(\"Accuracy:\", scores[:])#\n",
        "list_result.append((\"LSTM Simple\", scores[1]))"
      ],
      "execution_count": 54,
      "outputs": [
        {
          "output_type": "stream",
          "text": [
            "WARNING:tensorflow:From /usr/local/lib/python3.6/dist-packages/tensorflow/python/ops/math_ops.py:3066: to_int32 (from tensorflow.python.ops.math_ops) is deprecated and will be removed in a future version.\n",
            "Instructions for updating:\n",
            "Use tf.cast instead.\n",
            "Train on 144613 samples, validate on 16069 samples\n",
            "Epoch 1/5\n",
            "144613/144613 [==============================] - 111s 765us/step - loss: 1.5839 - acc: 0.5595 - val_loss: 1.3304 - val_acc: 0.6177\n",
            "Epoch 2/5\n",
            "144613/144613 [==============================] - 110s 763us/step - loss: 1.2761 - acc: 0.6266 - val_loss: 1.2465 - val_acc: 0.6371\n",
            "Epoch 3/5\n",
            "144613/144613 [==============================] - 112s 773us/step - loss: 1.1642 - acc: 0.6519 - val_loss: 1.2171 - val_acc: 0.6440\n",
            "Epoch 4/5\n",
            "144613/144613 [==============================] - 111s 769us/step - loss: 1.0761 - acc: 0.6728 - val_loss: 1.2062 - val_acc: 0.6455\n",
            "Epoch 5/5\n",
            "144613/144613 [==============================] - 110s 758us/step - loss: 1.0002 - acc: 0.6924 - val_loss: 1.2125 - val_acc: 0.6463\n",
            "40171/40171 [==============================] - 46s 1ms/step\n",
            "Accuracy: 0.6445445719534091\n"
          ],
          "name": "stdout"
        }
      ]
    },
    {
      "cell_type": "code",
      "metadata": {
        "id": "v8OTj-z9n3PJ",
        "colab_type": "code",
        "outputId": "905a2e32-6ca1-4716-cdd0-73bbfc42f8a6",
        "colab": {
          "base_uri": "https://localhost:8080/",
          "height": 34
        }
      },
      "source": [
        "len(x_train.keys())"
      ],
      "execution_count": 55,
      "outputs": [
        {
          "output_type": "execute_result",
          "data": {
            "text/plain": [
              "160682"
            ]
          },
          "metadata": {
            "tags": []
          },
          "execution_count": 55
        }
      ]
    },
    {
      "cell_type": "markdown",
      "metadata": {
        "id": "fxjr-fKFIxsz",
        "colab_type": "text"
      },
      "source": [
        "### Model LSTM and concatenate new columns"
      ]
    },
    {
      "cell_type": "code",
      "metadata": {
        "id": "gY8k2pikm5cQ",
        "colab_type": "code",
        "outputId": "5aa5b68b-ee6b-414c-9b8d-d66f918e35b8",
        "colab": {
          "base_uri": "https://localhost:8080/",
          "height": 492
        }
      },
      "source": [
        "#LSTM adding the metadata features(Polarity,Subjectivity,Len)\n",
        "from keras.models import Model\n",
        "from keras.layers import Dense ,LSTM,concatenate,Input,Flatten,BatchNormalization, GRU\n",
        "\n",
        "text_data = Input(shape=(MAX_SEQ_LENGHT,), name='text')\n",
        "meta_data = Input(shape=(3,), name = 'meta')\n",
        "x=(Embedding(len(vectorizer.get_feature_names()) + 1,\n",
        "                    EMBEDDINGS_LEN,  # Embedding size\n",
        "                    weights=[embeddings_index],\n",
        "                    input_length=MAX_SEQ_LENGHT,\n",
        "                    trainable=False))(text_data)\n",
        "x2 = ((LSTM(300, dropout=0.2, recurrent_dropout=0.2)))(x)\n",
        "x4 = concatenate([x2, meta_data])\n",
        "x5 = Dense(150, activation='relu')(x4)\n",
        "x6 = Dropout(0.25)(x5)\n",
        "x7 = BatchNormalization()(x6)\n",
        "out=(Dense(len(set(y)), activation=\"softmax\"))(x7)\n",
        "model = Model(inputs=[text_data, meta_data ], outputs=out)\n",
        "model.compile(loss='categorical_crossentropy', optimizer='adam', metrics=['accuracy'])\n",
        "print(model.summary())"
      ],
      "execution_count": 59,
      "outputs": [
        {
          "output_type": "stream",
          "text": [
            "__________________________________________________________________________________________________\n",
            "Layer (type)                    Output Shape         Param #     Connected to                     \n",
            "==================================================================================================\n",
            "text (InputLayer)               (None, 60)           0                                            \n",
            "__________________________________________________________________________________________________\n",
            "embedding_5 (Embedding)         (None, 60, 300)      8982900     text[0][0]                       \n",
            "__________________________________________________________________________________________________\n",
            "lstm_3 (LSTM)                   (None, 300)          721200      embedding_5[0][0]                \n",
            "__________________________________________________________________________________________________\n",
            "meta (InputLayer)               (None, 3)            0                                            \n",
            "__________________________________________________________________________________________________\n",
            "concatenate_1 (Concatenate)     (None, 303)          0           lstm_3[0][0]                     \n",
            "                                                                 meta[0][0]                       \n",
            "__________________________________________________________________________________________________\n",
            "dense_2 (Dense)                 (None, 150)          45600       concatenate_1[0][0]              \n",
            "__________________________________________________________________________________________________\n",
            "dropout_1 (Dropout)             (None, 150)          0           dense_2[0][0]                    \n",
            "__________________________________________________________________________________________________\n",
            "batch_normalization_1 (BatchNor (None, 150)          600         dropout_1[0][0]                  \n",
            "__________________________________________________________________________________________________\n",
            "dense_3 (Dense)                 (None, 40)           6040        batch_normalization_1[0][0]      \n",
            "==================================================================================================\n",
            "Total params: 9,756,340\n",
            "Trainable params: 773,140\n",
            "Non-trainable params: 8,983,200\n",
            "__________________________________________________________________________________________________\n",
            "None\n"
          ],
          "name": "stdout"
        }
      ]
    },
    {
      "cell_type": "code",
      "metadata": {
        "id": "dk0LBCEkpcyW",
        "colab_type": "code",
        "colab": {}
      },
      "source": [
        "df_cat_train = df_news.iloc[x_train.index][['polarity', 'subjectivity', 'len']]\n",
        "df_cat_test = df_news.iloc[x_test.index][['polarity', 'subjectivity', 'len']]"
      ],
      "execution_count": 0,
      "outputs": []
    },
    {
      "cell_type": "code",
      "metadata": {
        "id": "suzvxzbupJBl",
        "colab_type": "code",
        "outputId": "1a450565-1e69-401a-9836-2493b055304e",
        "colab": {
          "base_uri": "https://localhost:8080/",
          "height": 492
        }
      },
      "source": [
        "model.fit([X_train_sequences, df_cat_train], y_train, \n",
        "          epochs=12, batch_size=128, verbose=1, \n",
        "          validation_split=0.1)\n",
        " \n",
        "scores = model.evaluate([X_test_sequences, df_cat_test],y_test, verbose=1)\n",
        "print(\"Accuracy:\", scores[1])  \n",
        "list_result.append((\"LSTM with Multi-Input\", scores[1]))"
      ],
      "execution_count": 61,
      "outputs": [
        {
          "output_type": "stream",
          "text": [
            "Train on 144613 samples, validate on 16069 samples\n",
            "Epoch 1/12\n",
            "144613/144613 [==============================] - 117s 809us/step - loss: 1.7640 - acc: 0.5260 - val_loss: 1.3570 - val_acc: 0.6143\n",
            "Epoch 2/12\n",
            "144613/144613 [==============================] - 116s 800us/step - loss: 1.3925 - acc: 0.6057 - val_loss: 1.2746 - val_acc: 0.6289\n",
            "Epoch 3/12\n",
            "144613/144613 [==============================] - 115s 793us/step - loss: 1.2838 - acc: 0.6289 - val_loss: 1.2421 - val_acc: 0.6388\n",
            "Epoch 4/12\n",
            "144613/144613 [==============================] - 115s 796us/step - loss: 1.2099 - acc: 0.6440 - val_loss: 1.2118 - val_acc: 0.6506\n",
            "Epoch 5/12\n",
            "144613/144613 [==============================] - 114s 788us/step - loss: 1.1452 - acc: 0.6592 - val_loss: 1.2021 - val_acc: 0.6478\n",
            "Epoch 6/12\n",
            "144613/144613 [==============================] - 114s 788us/step - loss: 1.0893 - acc: 0.6720 - val_loss: 1.2034 - val_acc: 0.6487\n",
            "Epoch 7/12\n",
            "144613/144613 [==============================] - 114s 787us/step - loss: 1.0394 - acc: 0.6840 - val_loss: 1.2103 - val_acc: 0.6565\n",
            "Epoch 8/12\n",
            "144613/144613 [==============================] - 113s 784us/step - loss: 0.9935 - acc: 0.6956 - val_loss: 1.2108 - val_acc: 0.6541\n",
            "Epoch 9/12\n",
            "144613/144613 [==============================] - 114s 786us/step - loss: 0.9519 - acc: 0.7052 - val_loss: 1.2296 - val_acc: 0.6537\n",
            "Epoch 10/12\n",
            "144613/144613 [==============================] - 113s 784us/step - loss: 0.9177 - acc: 0.7135 - val_loss: 1.2411 - val_acc: 0.6513\n",
            "Epoch 11/12\n",
            "144613/144613 [==============================] - 113s 784us/step - loss: 0.8829 - acc: 0.7227 - val_loss: 1.2595 - val_acc: 0.6509\n",
            "Epoch 12/12\n",
            "144613/144613 [==============================] - 113s 782us/step - loss: 0.8563 - acc: 0.7290 - val_loss: 1.2973 - val_acc: 0.6493\n",
            "40171/40171 [==============================] - 50s 1ms/step\n",
            "Accuracy: 0.6472828657474395\n"
          ],
          "name": "stdout"
        }
      ]
    },
    {
      "cell_type": "markdown",
      "metadata": {
        "id": "iRwIexfqJA5c",
        "colab_type": "text"
      },
      "source": [
        "### Model with 2 GRU (Bi-GRU)"
      ]
    },
    {
      "cell_type": "code",
      "metadata": {
        "id": "XlGErlmJwVNT",
        "colab_type": "code",
        "outputId": "dc876341-54cf-4af9-f7a3-e2269c7514db",
        "colab": {
          "base_uri": "https://localhost:8080/",
          "height": 527
        }
      },
      "source": [
        "#let us experiment by replacing LSTM with 2 GRU units \n",
        "text_data = Input(shape=(MAX_SEQ_LENGHT,), name='text')\n",
        "meta_data = Input(shape=(3,), name = 'meta')\n",
        "x=(Embedding(len(vectorizer.get_feature_names()) + 1,\n",
        "                    EMBEDDINGS_LEN,  # Embedding size\n",
        "                    weights=[embeddings_index],\n",
        "                    input_length=MAX_SEQ_LENGHT,\n",
        "                    trainable=False))(text_data)\n",
        "x2 = ((GRU(128, dropout=0.2, recurrent_dropout=0.2,  return_sequences=True)))(x)\n",
        "x3 = ((GRU(128, dropout=0.2, recurrent_dropout=0.2)))(x2)\n",
        "x4 = concatenate([x3, meta_data])\n",
        "x5 = Dense(150, activation='relu')(x4)\n",
        "x6 = Dropout(0.25)(x5)\n",
        "x7 = BatchNormalization()(x6)\n",
        "out=(Dense(len(set(y)), activation=\"softmax\"))(x7)\n",
        "model = Model(inputs=[text_data, meta_data ], outputs=out)\n",
        "model.compile(loss='categorical_crossentropy', optimizer='adam', metrics=['accuracy'])\n",
        "print(model.summary())"
      ],
      "execution_count": 62,
      "outputs": [
        {
          "output_type": "stream",
          "text": [
            "__________________________________________________________________________________________________\n",
            "Layer (type)                    Output Shape         Param #     Connected to                     \n",
            "==================================================================================================\n",
            "text (InputLayer)               (None, 60)           0                                            \n",
            "__________________________________________________________________________________________________\n",
            "embedding_6 (Embedding)         (None, 60, 300)      8982900     text[0][0]                       \n",
            "__________________________________________________________________________________________________\n",
            "gru_1 (GRU)                     (None, 60, 128)      164736      embedding_6[0][0]                \n",
            "__________________________________________________________________________________________________\n",
            "gru_2 (GRU)                     (None, 128)          98688       gru_1[0][0]                      \n",
            "__________________________________________________________________________________________________\n",
            "meta (InputLayer)               (None, 3)            0                                            \n",
            "__________________________________________________________________________________________________\n",
            "concatenate_2 (Concatenate)     (None, 131)          0           gru_2[0][0]                      \n",
            "                                                                 meta[0][0]                       \n",
            "__________________________________________________________________________________________________\n",
            "dense_4 (Dense)                 (None, 150)          19800       concatenate_2[0][0]              \n",
            "__________________________________________________________________________________________________\n",
            "dropout_2 (Dropout)             (None, 150)          0           dense_4[0][0]                    \n",
            "__________________________________________________________________________________________________\n",
            "batch_normalization_2 (BatchNor (None, 150)          600         dropout_2[0][0]                  \n",
            "__________________________________________________________________________________________________\n",
            "dense_5 (Dense)                 (None, 40)           6040        batch_normalization_2[0][0]      \n",
            "==================================================================================================\n",
            "Total params: 9,272,764\n",
            "Trainable params: 289,564\n",
            "Non-trainable params: 8,983,200\n",
            "__________________________________________________________________________________________________\n",
            "None\n"
          ],
          "name": "stdout"
        }
      ]
    },
    {
      "cell_type": "code",
      "metadata": {
        "id": "EwbRVFPnw4pv",
        "colab_type": "code",
        "outputId": "5b55fd5d-110e-4843-94c7-cd3f49858019",
        "colab": {
          "base_uri": "https://localhost:8080/",
          "height": 774
        }
      },
      "source": [
        "model.fit([X_train_sequences, df_cat_train], y_train, \n",
        "          epochs=20, batch_size=128, verbose=1, \n",
        "          validation_split=0.1)\n",
        " \n",
        "scores = model.evaluate([X_test_sequences, df_cat_test],y_test, verbose=1)\n",
        "print(\"Accuracy:\", scores[1])  # \n",
        "list_result.append((\"Bi-GRU\", scores[1]))"
      ],
      "execution_count": 63,
      "outputs": [
        {
          "output_type": "stream",
          "text": [
            "Train on 144613 samples, validate on 16069 samples\n",
            "Epoch 1/20\n",
            "144613/144613 [==============================] - 198s 1ms/step - loss: 1.9079 - acc: 0.4948 - val_loss: 1.4263 - val_acc: 0.5973\n",
            "Epoch 2/20\n",
            "144613/144613 [==============================] - 194s 1ms/step - loss: 1.5081 - acc: 0.5800 - val_loss: 1.3309 - val_acc: 0.6211\n",
            "Epoch 3/20\n",
            "144613/144613 [==============================] - 193s 1ms/step - loss: 1.4140 - acc: 0.6003 - val_loss: 1.2877 - val_acc: 0.6307\n",
            "Epoch 4/20\n",
            "144613/144613 [==============================] - 193s 1ms/step - loss: 1.3603 - acc: 0.6129 - val_loss: 1.2618 - val_acc: 0.6361\n",
            "Epoch 5/20\n",
            "144613/144613 [==============================] - 193s 1ms/step - loss: 1.3152 - acc: 0.6218 - val_loss: 1.2404 - val_acc: 0.6396\n",
            "Epoch 6/20\n",
            "144613/144613 [==============================] - 194s 1ms/step - loss: 1.2822 - acc: 0.6289 - val_loss: 1.2387 - val_acc: 0.6416\n",
            "Epoch 7/20\n",
            "144613/144613 [==============================] - 197s 1ms/step - loss: 1.2581 - acc: 0.6359 - val_loss: 1.2152 - val_acc: 0.6486\n",
            "Epoch 8/20\n",
            "144613/144613 [==============================] - 197s 1ms/step - loss: 1.2355 - acc: 0.6393 - val_loss: 1.2091 - val_acc: 0.6474\n",
            "Epoch 9/20\n",
            "144613/144613 [==============================] - 196s 1ms/step - loss: 1.2146 - acc: 0.6440 - val_loss: 1.2063 - val_acc: 0.6478\n",
            "Epoch 10/20\n",
            "144613/144613 [==============================] - 198s 1ms/step - loss: 1.1970 - acc: 0.6479 - val_loss: 1.2011 - val_acc: 0.6514\n",
            "Epoch 11/20\n",
            "144613/144613 [==============================] - 199s 1ms/step - loss: 1.1814 - acc: 0.6525 - val_loss: 1.1970 - val_acc: 0.6536\n",
            "Epoch 12/20\n",
            "144613/144613 [==============================] - 197s 1ms/step - loss: 1.1711 - acc: 0.6534 - val_loss: 1.1928 - val_acc: 0.6530\n",
            "Epoch 13/20\n",
            "144613/144613 [==============================] - 196s 1ms/step - loss: 1.1574 - acc: 0.6565 - val_loss: 1.2002 - val_acc: 0.6516\n",
            "Epoch 14/20\n",
            "144613/144613 [==============================] - 199s 1ms/step - loss: 1.1486 - acc: 0.6597 - val_loss: 1.2042 - val_acc: 0.6529\n",
            "Epoch 15/20\n",
            "144613/144613 [==============================] - 199s 1ms/step - loss: 1.1391 - acc: 0.6617 - val_loss: 1.1943 - val_acc: 0.6562\n",
            "Epoch 16/20\n",
            "144613/144613 [==============================] - 197s 1ms/step - loss: 1.1298 - acc: 0.6642 - val_loss: 1.1942 - val_acc: 0.6534\n",
            "Epoch 17/20\n",
            "144613/144613 [==============================] - 199s 1ms/step - loss: 1.1212 - acc: 0.6645 - val_loss: 1.1909 - val_acc: 0.6554\n",
            "Epoch 18/20\n",
            "144613/144613 [==============================] - 200s 1ms/step - loss: 1.1170 - acc: 0.6655 - val_loss: 1.1996 - val_acc: 0.6536\n",
            "Epoch 19/20\n",
            "144613/144613 [==============================] - 201s 1ms/step - loss: 1.1080 - acc: 0.6687 - val_loss: 1.1974 - val_acc: 0.6547\n",
            "Epoch 20/20\n",
            "144613/144613 [==============================] - 201s 1ms/step - loss: 1.1061 - acc: 0.6698 - val_loss: 1.1940 - val_acc: 0.6553\n",
            "40171/40171 [==============================] - 89s 2ms/step\n",
            "Accuracy: 0.6520375395244933\n"
          ],
          "name": "stdout"
        }
      ]
    },
    {
      "cell_type": "markdown",
      "metadata": {
        "id": "zbBWIYw4fKot",
        "colab_type": "text"
      },
      "source": [
        "## LSTM with Attention"
      ]
    },
    {
      "cell_type": "code",
      "metadata": {
        "id": "GjAlQI48XnUo",
        "colab_type": "code",
        "outputId": "6bc69ba5-ffd1-4a1e-d16f-fb7ecc7abe07",
        "colab": {
          "base_uri": "https://localhost:8080/",
          "height": 615
        }
      },
      "source": [
        "             \n",
        "             \n",
        "             \n",
        "class Attention(Layer):\n",
        "    def __init__(self, step_dim,\n",
        "                 W_regularizer=None, b_regularizer=None,\n",
        "                 W_constraint=None, b_constraint=None,\n",
        "                 bias=True, **kwargs):\n",
        "        self.supports_masking = True\n",
        "        self.init = initializers.get('glorot_uniform')\n",
        "        self.W_regularizer = regularizers.get(W_regularizer)\n",
        "        self.b_regularizer = regularizers.get(b_regularizer)\n",
        "        self.W_constraint = constraints.get(W_constraint)\n",
        "        self.b_constraint = constraints.get(b_constraint)\n",
        "        self.bias = bias\n",
        "        self.step_dim = step_dim\n",
        "        self.features_dim = 0\n",
        "        super(Attention, self).__init__(**kwargs)\n",
        "\n",
        "    def build(self, input_shape):\n",
        "        assert len(input_shape) == 3\n",
        "        self.W = self.add_weight((input_shape[-1],),\n",
        "                                 initializer=self.init,\n",
        "                                 name='{}_W'.format(self.name),\n",
        "                                 regularizer=self.W_regularizer,\n",
        "                                 constraint=self.W_constraint)\n",
        "        self.features_dim = input_shape[-1]\n",
        "        if self.bias:\n",
        "            self.b = self.add_weight((input_shape[1],),\n",
        "                                     initializer='zero',\n",
        "                                     name='{}_b'.format(self.name),\n",
        "                                     regularizer=self.b_regularizer,\n",
        "                                     constraint=self.b_constraint)\n",
        "        else:\n",
        "            self.b = None\n",
        "        self.built = True\n",
        "\n",
        "    def compute_mask(self, input, input_mask=None):\n",
        "        return None\n",
        "\n",
        "    def call(self, x, mask=None):\n",
        "        features_dim = self.features_dim\n",
        "        step_dim = self.step_dim\n",
        "        eij = K.reshape(K.dot(K.reshape(x, (-1, features_dim)), K.reshape(self.W, (features_dim, 1))), (-1, step_dim))\n",
        "        if self.bias:\n",
        "            eij += self.b\n",
        "        eij = K.tanh(eij)\n",
        "        a = K.exp(eij)\n",
        "        if mask is not None:\n",
        "            a *= K.cast(mask, K.floatx())\n",
        "        a /= K.cast(K.sum(a, axis=1, keepdims=True) + K.epsilon(), K.floatx())\n",
        "        a = K.expand_dims(a)\n",
        "        weighted_input = x * a\n",
        "        return K.sum(weighted_input, axis=1)\n",
        "\n",
        "    def compute_output_shape(self, input_shape):\n",
        "        return input_shape[0],  self.features_dim\n",
        "    \n",
        "\n",
        "text_data = Input(shape=(MAX_SEQ_LENGHT,), name='text')\n",
        "meta_data = Input(shape=(3,), name = 'meta')\n",
        "x = Embedding(len(vectorizer.get_feature_names()) + 1,\n",
        "                    EMBEDDINGS_LEN,  # Embedding size\n",
        "                    weights=[embeddings_index],\n",
        "                    input_length=MAX_SEQ_LENGHT,\n",
        "                    trainable=False)(text_data)\n",
        "x1 = (LSTM(300, dropout=0.25, recurrent_dropout=0.25, return_sequences=True))(x)\n",
        "x2 = Dropout(0.25)(x1)\n",
        "x3 = Attention(MAX_SEQ_LENGHT)(x2)\n",
        "x4 = Dense(256, activation='relu')(x3)\n",
        "x5 = Dropout(0.25)(x4)\n",
        "x6 = BatchNormalization()(x5)\n",
        "x7 = concatenate([x6, meta_data])\n",
        "x8 = Dense(150, activation='relu')(x7)\n",
        "x9 = Dropout(0.25)(x8)\n",
        "x10 = BatchNormalization()(x8)\n",
        "outp = Dense(len(set(y)), activation='softmax')(x10)\n",
        "\n",
        "AttentionLSTM = Model(inputs= [text_data, meta_data], outputs=outp)\n",
        "AttentionLSTM.compile(loss='categorical_crossentropy', optimizer='adam', metrics=['acc'])\n",
        "\n",
        "AttentionLSTM.summary()"
      ],
      "execution_count": 65,
      "outputs": [
        {
          "output_type": "stream",
          "text": [
            "__________________________________________________________________________________________________\n",
            "Layer (type)                    Output Shape         Param #     Connected to                     \n",
            "==================================================================================================\n",
            "text (InputLayer)               (None, 60)           0                                            \n",
            "__________________________________________________________________________________________________\n",
            "embedding_8 (Embedding)         (None, 60, 300)      8982900     text[0][0]                       \n",
            "__________________________________________________________________________________________________\n",
            "lstm_4 (LSTM)                   (None, 60, 300)      721200      embedding_8[0][0]                \n",
            "__________________________________________________________________________________________________\n",
            "dropout_3 (Dropout)             (None, 60, 300)      0           lstm_4[0][0]                     \n",
            "__________________________________________________________________________________________________\n",
            "attention_1 (Attention)         (None, 300)          360         dropout_3[0][0]                  \n",
            "__________________________________________________________________________________________________\n",
            "dense_6 (Dense)                 (None, 256)          77056       attention_1[0][0]                \n",
            "__________________________________________________________________________________________________\n",
            "dropout_4 (Dropout)             (None, 256)          0           dense_6[0][0]                    \n",
            "__________________________________________________________________________________________________\n",
            "batch_normalization_3 (BatchNor (None, 256)          1024        dropout_4[0][0]                  \n",
            "__________________________________________________________________________________________________\n",
            "meta (InputLayer)               (None, 3)            0                                            \n",
            "__________________________________________________________________________________________________\n",
            "concatenate_3 (Concatenate)     (None, 259)          0           batch_normalization_3[0][0]      \n",
            "                                                                 meta[0][0]                       \n",
            "__________________________________________________________________________________________________\n",
            "dense_7 (Dense)                 (None, 150)          39000       concatenate_3[0][0]              \n",
            "__________________________________________________________________________________________________\n",
            "batch_normalization_4 (BatchNor (None, 150)          600         dense_7[0][0]                    \n",
            "__________________________________________________________________________________________________\n",
            "dense_8 (Dense)                 (None, 40)           6040        batch_normalization_4[0][0]      \n",
            "==================================================================================================\n",
            "Total params: 9,828,180\n",
            "Trainable params: 844,468\n",
            "Non-trainable params: 8,983,712\n",
            "__________________________________________________________________________________________________\n"
          ],
          "name": "stdout"
        }
      ]
    },
    {
      "cell_type": "code",
      "metadata": {
        "id": "RWV25Y1ahX2L",
        "colab_type": "code",
        "outputId": "a3daa7ca-56d0-46c0-faa0-a6241a840e50",
        "colab": {
          "base_uri": "https://localhost:8080/",
          "height": 527
        }
      },
      "source": [
        "AttentionLSTM.fit([X_train_sequences, df_cat_train], y_train, \n",
        "          epochs=13, batch_size=128, verbose=1, \n",
        "          validation_split=0.1)\n",
        " \n",
        "scores = AttentionLSTM.evaluate([X_test_sequences, df_cat_test],y_test, verbose=1)\n",
        "print(\"Accuracy:\", scores[1])  # \n",
        "list_result.append((\"LSTM with Attention\", scores[1]))"
      ],
      "execution_count": 66,
      "outputs": [
        {
          "output_type": "stream",
          "text": [
            "Train on 144613 samples, validate on 16069 samples\n",
            "Epoch 1/13\n",
            "144613/144613 [==============================] - 123s 854us/step - loss: 1.7261 - acc: 0.5322 - val_loss: 1.3839 - val_acc: 0.6036\n",
            "Epoch 2/13\n",
            "144613/144613 [==============================] - 121s 840us/step - loss: 1.4100 - acc: 0.5980 - val_loss: 1.2959 - val_acc: 0.6232\n",
            "Epoch 3/13\n",
            "144613/144613 [==============================] - 120s 831us/step - loss: 1.3153 - acc: 0.6185 - val_loss: 1.2371 - val_acc: 0.6374\n",
            "Epoch 4/13\n",
            "144613/144613 [==============================] - 120s 829us/step - loss: 1.2440 - acc: 0.6341 - val_loss: 1.2078 - val_acc: 0.6452\n",
            "Epoch 5/13\n",
            "144613/144613 [==============================] - 120s 831us/step - loss: 1.1914 - acc: 0.6471 - val_loss: 1.1911 - val_acc: 0.6464\n",
            "Epoch 6/13\n",
            "144613/144613 [==============================] - 120s 827us/step - loss: 1.1447 - acc: 0.6582 - val_loss: 1.1739 - val_acc: 0.6562\n",
            "Epoch 7/13\n",
            "144613/144613 [==============================] - 120s 831us/step - loss: 1.1028 - acc: 0.6677 - val_loss: 1.1791 - val_acc: 0.6536\n",
            "Epoch 8/13\n",
            "144613/144613 [==============================] - 120s 827us/step - loss: 1.0703 - acc: 0.6755 - val_loss: 1.1641 - val_acc: 0.6570\n",
            "Epoch 9/13\n",
            "144613/144613 [==============================] - 119s 826us/step - loss: 1.0368 - acc: 0.6838 - val_loss: 1.1658 - val_acc: 0.6577\n",
            "Epoch 10/13\n",
            "144613/144613 [==============================] - 120s 828us/step - loss: 1.0067 - acc: 0.6907 - val_loss: 1.1716 - val_acc: 0.6607\n",
            "Epoch 11/13\n",
            "144613/144613 [==============================] - 120s 828us/step - loss: 0.9836 - acc: 0.6975 - val_loss: 1.1663 - val_acc: 0.6606\n",
            "Epoch 12/13\n",
            "144613/144613 [==============================] - 120s 828us/step - loss: 0.9624 - acc: 0.7022 - val_loss: 1.1732 - val_acc: 0.6622\n",
            "Epoch 13/13\n",
            "144613/144613 [==============================] - 120s 829us/step - loss: 0.9396 - acc: 0.7082 - val_loss: 1.1844 - val_acc: 0.6604\n",
            "40171/40171 [==============================] - 52s 1ms/step\n",
            "Accuracy: 0.6584102959831818\n"
          ],
          "name": "stdout"
        }
      ]
    },
    {
      "cell_type": "markdown",
      "metadata": {
        "id": "Uc1YCgRmkX_X",
        "colab_type": "text"
      },
      "source": [
        "##  Models Comparison"
      ]
    },
    {
      "cell_type": "code",
      "metadata": {
        "id": "V52za-gPFuKx",
        "colab_type": "code",
        "outputId": "6aa334f1-b5b2-46e8-f687-64cf970c7bde",
        "colab": {
          "base_uri": "https://localhost:8080/",
          "height": 225
        }
      },
      "source": [
        "pd.DataFrame(list_result, columns=['model', 'accuracy'])"
      ],
      "execution_count": 67,
      "outputs": [
        {
          "output_type": "execute_result",
          "data": {
            "text/html": [
              "<div>\n",
              "<style scoped>\n",
              "    .dataframe tbody tr th:only-of-type {\n",
              "        vertical-align: middle;\n",
              "    }\n",
              "\n",
              "    .dataframe tbody tr th {\n",
              "        vertical-align: top;\n",
              "    }\n",
              "\n",
              "    .dataframe thead th {\n",
              "        text-align: right;\n",
              "    }\n",
              "</style>\n",
              "<table border=\"1\" class=\"dataframe\">\n",
              "  <thead>\n",
              "    <tr style=\"text-align: right;\">\n",
              "      <th></th>\n",
              "      <th>model</th>\n",
              "      <th>accuracy</th>\n",
              "    </tr>\n",
              "  </thead>\n",
              "  <tbody>\n",
              "    <tr>\n",
              "      <th>0</th>\n",
              "      <td>SVC</td>\n",
              "      <td>0.613477</td>\n",
              "    </tr>\n",
              "    <tr>\n",
              "      <th>1</th>\n",
              "      <td>SGD</td>\n",
              "      <td>0.580693</td>\n",
              "    </tr>\n",
              "    <tr>\n",
              "      <th>2</th>\n",
              "      <td>LSTM Simple</td>\n",
              "      <td>0.644545</td>\n",
              "    </tr>\n",
              "    <tr>\n",
              "      <th>3</th>\n",
              "      <td>LSTM with Multi-Input</td>\n",
              "      <td>0.647283</td>\n",
              "    </tr>\n",
              "    <tr>\n",
              "      <th>4</th>\n",
              "      <td>Bi-GRU</td>\n",
              "      <td>0.652038</td>\n",
              "    </tr>\n",
              "    <tr>\n",
              "      <th>5</th>\n",
              "      <td>LSTM with Attention</td>\n",
              "      <td>0.658410</td>\n",
              "    </tr>\n",
              "  </tbody>\n",
              "</table>\n",
              "</div>"
            ],
            "text/plain": [
              "                   model  accuracy\n",
              "0                    SVC  0.613477\n",
              "1                    SGD  0.580693\n",
              "2            LSTM Simple  0.644545\n",
              "3  LSTM with Multi-Input  0.647283\n",
              "4                 Bi-GRU  0.652038\n",
              "5    LSTM with Attention  0.658410"
            ]
          },
          "metadata": {
            "tags": []
          },
          "execution_count": 67
        }
      ]
    }
  ]
}